{
 "cells": [
  {
   "cell_type": "code",
   "execution_count": 4,
   "metadata": {},
   "outputs": [],
   "source": [
    "import numpy as np\n",
    "import pandas as pd\n",
    "from nltk import word_tokenize,sent_tokenize\n",
    "from collections import deque\n",
    "import random\n",
    "from keras.models import Sequential\n",
    "from keras.layers import Dense, LSTM, Dropout, BatchNormalization\n",
    "from keras.optimizers import RMSprop, Adam\n",
    "#from tensorflow import Tensorboard"
   ]
  },
  {
   "cell_type": "markdown",
   "metadata": {},
   "source": [
    "# Generating rap lyrics with recurrent neural networks"
   ]
  },
  {
   "cell_type": "markdown",
   "metadata": {},
   "source": [
    "I wanted to create a RNN to produce rap lyrics inspired by Kany West (him because I found a clean dataset on Kaggle)."
   ]
  },
  {
   "cell_type": "markdown",
   "metadata": {},
   "source": [
    "I will explain the code in some detail, but I won't describe the network structure in any detail, since I mostly write these notebooks for myself."
   ]
  },
  {
   "cell_type": "markdown",
   "metadata": {},
   "source": [
    "There are many other good sources online, where you can learn the basics of RNN."
   ]
  },
  {
   "cell_type": "markdown",
   "metadata": {},
   "source": [
    "The only thing I will say to begin with, is that we want to feed a set of 29 characters into a neural network, and make it predict what the next character should be. This prediction is made on the basis of what the structure of the input data (Kanye West lyrics) is; \n",
    "\n",
    "if Kanye often sings \"blood on the\", the network will give a high probability that the next letter after \"blood on th\" will be \"e\"."
   ]
  },
  {
   "cell_type": "markdown",
   "metadata": {},
   "source": [
    "Here we import the data, and store the data as lists of lines, words and characters"
   ]
  },
  {
   "cell_type": "code",
   "execution_count": 240,
   "metadata": {},
   "outputs": [],
   "source": [
    "filename = \"kanye_verses.txt\"\n",
    "\n",
    "text = open(filename).read()\n",
    "lines = text.splitlines()\n",
    "words = word_tokenize(text.replace(\" \",\" æ \"))\n",
    "characters = list(text)"
   ]
  },
  {
   "cell_type": "markdown",
   "metadata": {},
   "source": [
    "This is how the raw textfile looks"
   ]
  },
  {
   "cell_type": "code",
   "execution_count": 241,
   "metadata": {},
   "outputs": [
    {
     "data": {
      "text/plain": [
       "'Let the suicide doors up\\nI threw suicides on the tour bus\\nI threw suicides on the private jet\\nYou kn'"
      ]
     },
     "execution_count": 241,
     "metadata": {},
     "output_type": "execute_result"
    }
   ],
   "source": [
    "text[0:100]"
   ]
  },
  {
   "cell_type": "markdown",
   "metadata": {},
   "source": [
    "And if we split it up in lines we get"
   ]
  },
  {
   "cell_type": "code",
   "execution_count": 242,
   "metadata": {},
   "outputs": [
    {
     "data": {
      "text/plain": [
       "['Let the suicide doors up',\n",
       " 'I threw suicides on the tour bus',\n",
       " 'I threw suicides on the private jet',\n",
       " \"You know what that mean, I'm fly to death\",\n",
       " \"I step in Def Jam buildin' like I'm the shit\"]"
      ]
     },
     "execution_count": 242,
     "metadata": {},
     "output_type": "execute_result"
    }
   ],
   "source": [
    "lines[0:5]"
   ]
  },
  {
   "cell_type": "markdown",
   "metadata": {},
   "source": [
    "When we use word_tokenize, the function does not count spaces as words, so we replace the spaces with the norwegian letter \" æ \", which I assume is not already in the text. Then we replace the word \"æ\" with \" \", using list comprehension."
   ]
  },
  {
   "cell_type": "code",
   "execution_count": 243,
   "metadata": {},
   "outputs": [
    {
     "data": {
      "text/plain": [
       "['Let', 'æ', 'the', 'æ', 'suicide', 'æ', 'doors', 'æ', 'up', 'I']"
      ]
     },
     "execution_count": 243,
     "metadata": {},
     "output_type": "execute_result"
    }
   ],
   "source": [
    "words[0:10]"
   ]
  },
  {
   "cell_type": "code",
   "execution_count": 244,
   "metadata": {},
   "outputs": [
    {
     "data": {
      "text/plain": [
       "['Let', ' ', 'the', ' ', 'suicide', ' ', 'doors', ' ', 'up', 'I']"
      ]
     },
     "execution_count": 244,
     "metadata": {},
     "output_type": "execute_result"
    }
   ],
   "source": [
    "words = [ \" \" if words[n] == \"æ\" else words[n] for n in range(len(words))]\n",
    "words[0:10]"
   ]
  },
  {
   "cell_type": "markdown",
   "metadata": {},
   "source": [
    "# Preprocessing"
   ]
  },
  {
   "cell_type": "code",
   "execution_count": 245,
   "metadata": {},
   "outputs": [
    {
     "name": "stdout",
     "output_type": "stream",
     "text": [
      "Data contains 104854 words, and 260341 characters.\n",
      "There are 7182 unique words, and 96 unique characters\n"
     ]
    }
   ],
   "source": [
    "print(f\"Data contains {len(words)} words, and {len(characters)} characters.\")\n",
    "print(f\"There are {len(set(words))} unique words, and {len(set(characters))} unique characters\")"
   ]
  },
  {
   "cell_type": "markdown",
   "metadata": {},
   "source": [
    "That is a lot of unique words, so if we use-one-hot encoding (where each word is transormed to a vector with length equal to the number of unique words), the memory of my laptop can't handle that amount of data. Therefore, we will build a character-level model. The method for creating a word-level model, is almost exactly the same.\n",
    "\n",
    " We take the first 20 000 characters, which is enough data for this proof-of-concept project."
   ]
  },
  {
   "cell_type": "code",
   "execution_count": 249,
   "metadata": {},
   "outputs": [
    {
     "data": {
      "text/plain": [
       "80"
      ]
     },
     "execution_count": 249,
     "metadata": {},
     "output_type": "execute_result"
    }
   ],
   "source": [
    "num_letters = 20000\n",
    "X = list(characters[:num_letters])\n",
    "unique = sorted(list(set(X)))\n",
    "len(unique)"
   ]
  },
  {
   "cell_type": "markdown",
   "metadata": {},
   "source": [
    "In this subset of the full dataset, there are 80 unique characters. Since we will use one-hot-encoding, we need two dictionaries: one that maps the character to vector indices, and one that maps from vector indices to characters. This is done below, where we also verify that the dictionary works by translating index 0 to its character representation and then back to index representation."
   ]
  },
  {
   "cell_type": "code",
   "execution_count": 250,
   "metadata": {},
   "outputs": [
    {
     "data": {
      "text/plain": [
       "'\\n'"
      ]
     },
     "execution_count": 250,
     "metadata": {},
     "output_type": "execute_result"
    }
   ],
   "source": [
    "ind_to_letter = dict((i, j ) for i, j in enumerate(unique))\n",
    "ind_to_letter[0]"
   ]
  },
  {
   "cell_type": "code",
   "execution_count": 251,
   "metadata": {},
   "outputs": [
    {
     "data": {
      "text/plain": [
       "0"
      ]
     },
     "execution_count": 251,
     "metadata": {},
     "output_type": "execute_result"
    }
   ],
   "source": [
    "letter_to_ind = {unique[n]:n for n in range(len(unique))}\n",
    "letter_to_ind['\\n']"
   ]
  },
  {
   "cell_type": "markdown",
   "metadata": {},
   "source": [
    "Now we create a function to perform the one-hot-encoding. One-hot-encoding can be illustrated by using the example text \"abc\". We want to encode it into a vector of length 3, since there are 3 unique letters in this example. One way to do that is simply\n",
    "\n",
    "$$ a \\to [1,0,0] ,\\quad b \\to [0,1,0], \\quad c \\to [0,0,1] $$\n",
    "\n",
    "and an equally valid encodig is\n",
    "\n",
    "$$ a \\to [0,1,0] ,\\quad b \\to [0,0,1], \\quad c \\to [1,0,0] $$\n",
    "\n",
    "The idea is that we have one unique vector for every character. And since we have created two dictionaries, which maps between indices and characters, we can use this to transform the dataset (which is now a list of characters), into a list of vectors (each representing a uniqe character). This is done in the function below"
   ]
  },
  {
   "cell_type": "code",
   "execution_count": 252,
   "metadata": {},
   "outputs": [],
   "source": [
    "def one_hot_encode(X,unique):\n",
    "\n",
    "    X_one_hot = []                         # Empty list which we will append the o-h-encoded vectors to.\n",
    "    for n in range(len(X)):\n",
    "        one_hot = [0]*len(unique)          # Create a vector of 0's, with length equal to number of uniqe letters.\n",
    "        one_hot[letter_to_ind[X[n]]] = 1   # Map the character X[n] to its index, and insert 1 at that index.\n",
    "        X_one_hot.append(one_hot)          # Append the vector to the list\n",
    "        \n",
    "    return X_one_hot"
   ]
  },
  {
   "cell_type": "code",
   "execution_count": 253,
   "metadata": {},
   "outputs": [],
   "source": [
    "X_one_hot = one_hot_encode(X,unique)"
   ]
  },
  {
   "cell_type": "markdown",
   "metadata": {},
   "source": [
    "Now we must decide how many characeters in the past the network should look, to determine what the next character should be. With a longer memory, training takes more time, but it would also result in more coherent output. Let's set the memory length to 30 characers.\n",
    "\n",
    "We split the data into sequences of 30 characters, which will be the input of the neural network. We could train sequentially on the full dataset (i.e, put the 30 first characters into the network, then the characters from 1:31, then 2:32, etc.) but since the input data (lyrics) has very strong sequential correlation, this would result in inefficient training: In the beginning of training, the network would be fitted to the first verses, but since the language structure of later songs can change drastically from the first songs, the network would be unable to coverge to a good minimum."
   ]
  },
  {
   "cell_type": "code",
   "execution_count": 254,
   "metadata": {},
   "outputs": [],
   "source": [
    "memory_length = 30\n",
    "\n",
    "sequence = deque(maxlen = memory_length)            # Create a deque, essentially a fixed length list,\n",
    "                                                    # which automatically removes first element\n",
    "                                                    # to make place for newer inputs\n",
    "sequential_data = []\n",
    "\n",
    "for n in range(len(X_one_hot)):\n",
    "    sequence.append(X_one_hot[n])                   # Append o-h-vectors to a sequence\n",
    "    if len(sequence) == memory_length:\n",
    "        sequential_data.append(np.array(sequence))  # Once we have a full deque, add the sequence to data\n"
   ]
  },
  {
   "cell_type": "markdown",
   "metadata": {},
   "source": [
    "Just as a sanity check, we check if we con convert the first index of the first sequence from its o-h-vector form to the correct character. Since we get \"L\", which is also the first letter of the input data, we are happy."
   ]
  },
  {
   "cell_type": "code",
   "execution_count": 255,
   "metadata": {},
   "outputs": [
    {
     "data": {
      "text/plain": [
       "'L'"
      ]
     },
     "execution_count": 255,
     "metadata": {},
     "output_type": "execute_result"
    }
   ],
   "source": [
    "# Test if everything is ok so far\n",
    "ind = list(sequential_data[0][0]).index(max(list(sequential_data[0][0])))\n",
    "ind_to_letter[ind]"
   ]
  },
  {
   "cell_type": "markdown",
   "metadata": {},
   "source": [
    "Now we shuffle the data to remove the time-correlation of the sequences, and split the data into training and validation sets."
   ]
  },
  {
   "cell_type": "code",
   "execution_count": 256,
   "metadata": {},
   "outputs": [],
   "source": [
    "random.shuffle(sequential_data)\n",
    "\n",
    "training_frac = 0.1\n",
    "index = int(training_frac*len(sequential_data))\n",
    "\n",
    "\n",
    "train_data = sequential_data[:-index]\n",
    "test_data = sequential_data[-index:]"
   ]
  },
  {
   "cell_type": "markdown",
   "metadata": {},
   "source": [
    "Our goal is to predict the last character in a sequence of 30 characters. The target data which will compare our predictions to, is therefore the last character of every sequence. Here we extract these targets from the data, and define our inputs X, and target outputs y, for both the training and validation data."
   ]
  },
  {
   "cell_type": "code",
   "execution_count": 257,
   "metadata": {},
   "outputs": [],
   "source": [
    "def target_data_split(data):\n",
    "    X = [None]*len(data)\n",
    "    y = [None]*len(data)\n",
    "    \n",
    "    for n in range(len(data)):\n",
    "        X[n], y[n] = data[n][:-1], data[n][-1]        # Separate the first 29 characters and the last character\n",
    "    return np.array(X), np.array(y)                   # for every sequence.\n",
    "\n",
    "X_train, y_train = target_data_split(train_data)      \n",
    "X_test, y_test = target_data_split(test_data)\n"
   ]
  },
  {
   "cell_type": "markdown",
   "metadata": {},
   "source": [
    "We are now ready to create the neural network, and start training. The network structure is a long-short-term-memory (LSTM) layer, then a dense layer, followed by a final output layer with softmax activation (since we want the proability distribution of the next letter as output)."
   ]
  },
  {
   "cell_type": "code",
   "execution_count": 18,
   "metadata": {},
   "outputs": [],
   "source": [
    "model = Sequential()\n",
    "\n",
    "model.add(LSTM(128, input_shape = (np.array(X_train)[0].shape)))\n",
    "model.add(Dropout(0.2))\n",
    "model.add(BatchNormalization())\n",
    "\n",
    "model.add(Dense(128, activation = \"relu\"))\n",
    "model.add(Dropout(0.2))\n",
    "model.add(BatchNormalization())\n",
    "\n",
    "model.add(Dense(len(unique), activation = \"softmax\"))\n",
    "\n",
    "optimizer = Adam(lr=0.01)\n",
    "model.compile(loss='categorical_crossentropy', optimizer=optimizer, metrics=[\"acc\"])"
   ]
  },
  {
   "cell_type": "code",
   "execution_count": null,
   "metadata": {},
   "outputs": [],
   "source": [
    "model.summary()"
   ]
  },
  {
   "cell_type": "code",
   "execution_count": 19,
   "metadata": {},
   "outputs": [
    {
     "name": "stdout",
     "output_type": "stream",
     "text": [
      "Train on 17974 samples, validate on 1997 samples\n",
      "Epoch 1/10\n",
      "17974/17974 [==============================] - 19s 1ms/step - loss: 2.7154 - acc: 0.2764 - val_loss: 2.5405 - val_acc: 0.3195\n",
      "Epoch 2/10\n",
      "17974/17974 [==============================] - 19s 1ms/step - loss: 2.2838 - acc: 0.3508 - val_loss: 2.2796 - val_acc: 0.3716\n",
      "Epoch 3/10\n",
      "17974/17974 [==============================] - 22s 1ms/step - loss: 2.1402 - acc: 0.3860 - val_loss: 2.1227 - val_acc: 0.3861\n",
      "Epoch 4/10\n",
      "17974/17974 [==============================] - 18s 982us/step - loss: 2.0367 - acc: 0.4049 - val_loss: 2.0493 - val_acc: 0.4206\n",
      "Epoch 5/10\n",
      "17974/17974 [==============================] - 18s 979us/step - loss: 1.9507 - acc: 0.4267 - val_loss: 1.9953 - val_acc: 0.4146\n",
      "Epoch 6/10\n",
      "17974/17974 [==============================] - 18s 985us/step - loss: 1.8680 - acc: 0.4455 - val_loss: 1.9349 - val_acc: 0.4452\n",
      "Epoch 7/10\n",
      "17974/17974 [==============================] - 18s 986us/step - loss: 1.8042 - acc: 0.4662 - val_loss: 1.9841 - val_acc: 0.4442\n",
      "Epoch 8/10\n",
      "17974/17974 [==============================] - 18s 995us/step - loss: 1.7359 - acc: 0.4792 - val_loss: 1.9185 - val_acc: 0.4597\n",
      "Epoch 9/10\n",
      "17974/17974 [==============================] - 18s 1ms/step - loss: 1.6752 - acc: 0.4939 - val_loss: 1.9439 - val_acc: 0.4617\n",
      "Epoch 10/10\n",
      "17974/17974 [==============================] - 19s 1ms/step - loss: 1.6236 - acc: 0.5085 - val_loss: 1.9312 - val_acc: 0.4627\n"
     ]
    }
   ],
   "source": [
    "epochs = 10\n",
    "batch_size = 128\n",
    "history = model.fit(X_train,y_train, batch_size = batch_size, epochs=epochs,validation_data=(X_test,y_test))"
   ]
  },
  {
   "cell_type": "code",
   "execution_count": 20,
   "metadata": {},
   "outputs": [
    {
     "data": {
      "text/plain": [
       "<matplotlib.legend.Legend at 0x7f5e57e1ce48>"
      ]
     },
     "execution_count": 20,
     "metadata": {},
     "output_type": "execute_result"
    },
    {
     "data": {
      "image/png": "[encoded data removed]",
      "text/plain": [
       "<Figure size 1080x360 with 2 Axes>"
      ]
     },
     "metadata": {
      "needs_background": "light"
     },
     "output_type": "display_data"
    }
   ],
   "source": [
    "import matplotlib.pyplot as plt\n",
    "%matplotlib inline\n",
    "\n",
    "plt.figure(figsize=(15,5))\n",
    "\n",
    "epochs\n",
    "\n",
    "plt.subplot(1,2,1)\n",
    "plt.plot(history.history[\"val_acc\"])\n",
    "plt.plot(history.history[\"acc\"])\n",
    "plt.ylabel(\"accuracy\")\n",
    "plt.xlabel(\"epoch\")\n",
    "plt.legend([\"val_acc\",\"acc\"])\n",
    "\n",
    "plt.subplot(1,2,2)\n",
    "plt.plot(history.history[\"val_loss\"])\n",
    "plt.plot(history.history[\"loss\"])\n",
    "plt.ylabel(\"loss\")\n",
    "plt.xlabel(\"epoch\")\n",
    "plt.legend([\"val_loss\",\"loss\"])\n"
   ]
  },
  {
   "cell_type": "markdown",
   "metadata": {},
   "source": [
    "After traning for 10 epochs, we see that the validation accuracy and validation loss starts to stabilize, so its a good time to stop.\n",
    "\n",
    "Now we have a model which takes 29 characers as an imput, and gives one proability distribuion of all possible next characters as output.\n",
    "\n",
    "What we need next, is a function that takes 29 seed characters, the desired length of the output, and a temperature (to be explained later) as input. As the output we want a generated text, where the AI tries to imitate Kanye West. A function that does this is defined below"
   ]
  },
  {
   "cell_type": "code",
   "execution_count": 129,
   "metadata": {},
   "outputs": [],
   "source": [
    "def generate_rap(seed_sentence:str, length:int , temperature:int, memory=memory_length-1):\n",
    "    \n",
    "    cut_seed = list(seed_sentence[:memory])           # We cut the input seed (a user defined string)\n",
    "                                                      # so that it is the same length as our sequence.\n",
    "    for n in range(len(cut_seed)):\n",
    "        if cut_seed[n] not in ind_to_letter.values():\n",
    "            print(\"Unkown character in input\")\n",
    "            return False                              # Report an error if there is a character we havent seen\n",
    "    \n",
    "    o_h_seed = np.array(one_hot_encode(cut_seed,unique))  # one-hot-encode the seed\n",
    "    o_h_sentence = []\n",
    "    \n",
    "    for n in range(len(o_h_seed)): \n",
    "        o_h_sentence.append(o_h_seed[n])                 # append the seed to the output\n",
    "        \n",
    "    o_h_seed = o_h_seed.reshape(1,memory,len(unique))\n",
    "    \n",
    "    \n",
    "    for n in range(length):\n",
    "    \n",
    "        next_letter = model.predict(np.array(o_h_seed))[0]       # get a model prediction\n",
    "                            \n",
    "        next_letter = boltzmann_sample(next_letter,temperature)  # sample probability distribution(see below)\n",
    "        \n",
    "        o_h_sentence.append(next_letter)                        # append the letter to the output\n",
    "  \n",
    "        next_letter = np.reshape(next_letter, (1,) + next_letter.shape)\n",
    "\n",
    "        o_h_seed = np.concatenate((o_h_seed,next_letter), axis = 1)  # add the new letter to the seed\n",
    "        o_h_seed = np.delete(o_h_seed,obj=0,axis=1)                  # and delete first letter of seed\n",
    "                                                                     # to keep seed length = 29\n",
    "            \n",
    "    str_sentence = \"\"\n",
    "    for n in range(len(o_h_sentence)):\n",
    "        str_sentence += ind_to_letter[np.argmax(o_h_sentence[n])]   # translate the o-h-data to string\n",
    "    \n",
    "    print(str_sentence)\n",
    "    \n",
    "    \n",
    "    return o_h_sentence"
   ]
  },
  {
   "cell_type": "markdown",
   "metadata": {},
   "source": [
    "The way we sample the next letter from the output probability distribution deserves special attention. If we always used the max index value of the output, we would quickly be stuck in a loop i.e. \"blood on the blood on the blood\" (see below).\n",
    "\n",
    "We transform the output probability distribution, $p$ into the Boltzmann distribution, $q$:\n",
    "\n",
    "$$  q_i = \\frac{\\exp[~\\ln(p_i)/T~]}{\\sum_i^N \\exp[~\\ln(p_i)/T~]}, $$\n",
    "\n",
    "where N is the length of the one-hot-vector output (i.e. the number of unique characters) and T is a parameter. In physics this distribution is the one of a system at equilibrium with temperature T. \n",
    "\n",
    "If T = 1, we see that we get back the original probability distribution $q_i = p_i$.\n",
    "\n",
    "If we sample from this distribution, the temperature T determines how likely we are to sample values with high value of  $p_i$. \n",
    "\n",
    "\n",
    "For large $T>>1$, we get a uniform distribution\n",
    "\n",
    "$$ q_i = 1/N$$\n",
    "\n",
    "and therefore indpendent on the input $p_i$. This means that we are equally likely to draw any of the possible characters when sampling.\n",
    "\n",
    "\n",
    "For small $T<<1$, the exponential disribution becomes a delta function, centered on the largest $p_i$\n",
    "\n",
    "$$ q_i = \\delta(p_i-\\max(p)) $$\n",
    "\n",
    "all $q_i$ except for one is zero, while the $q_i$ with the largest $p_i$ as input becomes 1. That is, the zero temperature sampling, is equivalent to always choosing the letter with the largest probability in the output distribution $p$."
   ]
  },
  {
   "cell_type": "code",
   "execution_count": 263,
   "metadata": {},
   "outputs": [],
   "source": [
    "def boltzmann_sample(probs, temperature=1.0):\n",
    "    probs = np.asarray(probs).astype('float64')\n",
    "    \n",
    "    probs = np.exp(np.log(probs) / temperature)\n",
    "    normalization = np.sum(probs)\n",
    "    \n",
    "    probs = probs / normalization\n",
    "    \n",
    "    sample = np.random.multinomial(1, probs, 1)\n",
    "    return sample"
   ]
  },
  {
   "cell_type": "markdown",
   "metadata": {},
   "source": [
    "Below we generate sample texts, while using different temperatures for our sampling.\n",
    "\n",
    "For low temperatures, where we mostly choose the character with highest probability, we get stuck in loops, such as \"the blood on the blood on the blood....\". However, the spelling of the words are correct. The overall structure of the text is repetative, but the words are \n",
    "\n",
    "For high temperatures, we get mostly random letters. Most of the words have no meaning, but the text is very diverse.\n",
    "\n",
    "For intermidate temperatures, we get more coherent sentence structures, and also more diverse word usage.\n",
    "<img src=\"golden_zone.png\" alt=\"Drawing\" style=\"width: 500px;\"/>\n",
    "\n",
    "Kanye is more of a singer than a rapper. I'm not very happy with the output, as it seems more like the ramblings of a very angry person, than actual rap lyrics.\n",
    "\n",
    "Next I want to do the same project on someone like MF Doom, which is one of the most verbose and rhyming rappers.\n",
    "If that does not produce what I want, I will try to combine this model with deep reinforcement learning, so I could do something like taking the output from this model as the input of an DQL agent, and give it reward based on rhyming, sentence structure, etc. Maybe make a haiku-rap generator?\n"
   ]
  },
  {
   "cell_type": "code",
   "execution_count": 264,
   "metadata": {},
   "outputs": [
    {
     "name": "stdout",
     "output_type": "stream",
     "text": [
      "Soon as they like you make 'em the did I know they the blood on the blood on the blood on the blood on the blood on the blood on the blood on the did I know they the blood on the blood on the blood on the blood on the blood on the blood on the blood on the blood on the blood on the blood on the blood on the blood on the blood on the blood on the blood on the blood on the blood on the blood on the with the blood on the blood on the blood on the blood on the blood on the blood on the blood on the blood on the blood on the blood on the blood on the blood on the blood on the blood on the blood on the blood on the blood on the blood on the first flese\n",
      "I said be all the blood on the blood on the blood on the blood on the blood on the did I still the blood on the blood on the blood on the blood on the blood on the blood on the blood on the blood on the first flese\n",
      "I said niggas still first fince fince fince first first fince first like I was the blood on the blood on the blood on the blood on the blood on the blood on th\n"
     ]
    }
   ],
   "source": [
    "temperature = 0.1\n",
    "length = 1000\n",
    "seed = \"Soon as they like you make 'em unlike you\"\n",
    "test = generate_rap(seed,length,temperature)"
   ]
  },
  {
   "cell_type": "code",
   "execution_count": 142,
   "metadata": {},
   "outputs": [
    {
     "name": "stdout",
     "output_type": "stream",
     "text": [
      "Soon as they like you make 'em like I was all that I got the money and my black to flem best\n",
      "But I don't fuck now\n",
      "I said niggas fince fince fly niggas the did I'm 'em like I the came they gon' clontil the blood a ding the blood to the get the blood on the blood still fince first flen me with the blood the did I still me find this the still first flese\n",
      "I said niggas come on this the don't first from the pleas for the blood on this the please I broke me find this best\n",
      "I tried you her all the come find shit niggas some be like I wont the blood still figen this the dill on this the mone still and the get the blood on the blood some with the bitch the blood on the fuck niggas and same this think the blood on the veame finst sfirst persed to the did niggas the gon we the blood they said stell fuck the blead the blood on the got the blood a did niggas find first me\n",
      "I don't fuck with the blood a did some fince first lest\n",
      "I said you know I don't first fuck niggas like I'm fink they first nad the blood on the pleave I'm the\n"
     ]
    }
   ],
   "source": [
    "temperature = 0.25\n",
    "length = 1000\n",
    "seed = \"Soon as they like you make 'em unlike you\"\n",
    "test = generate_rap(seed,length,temperature)"
   ]
  },
  {
   "cell_type": "code",
   "execution_count": 143,
   "metadata": {},
   "outputs": [
    {
     "name": "stdout",
     "output_type": "stream",
     "text": [
      "Soon as they like you make 'em the did the blood on the blood on the pless best\n",
      "I know you wast the blood on the blood on the blood on the blood on the did I know they the blood on the money the blood on the blood on the first fuck now I know they the blood on the blood on the blood on the blood on the blood on the blood on the blood on the pleave I still the blood on the blood on the blood on the blood on the did I still some be first flest\n",
      "I still first flest I still first fince first flest\n",
      "I still first first fince first fince first fince first fince first fince first fack to with the blood on the blood on the blood on the blood on the blood on the blood on the blood on the blood on the blood on the blood on the blood on the blood on the first flese\n",
      "I said niggas the blood on the blood on the blood on the blood on the blood on the first flese\n",
      "I said niggas some be first flest\n",
      "I still me the blood on the first flest\n",
      "I still the blood on the blood on the blood on the blood on the streall but the blood on the bloo\n"
     ]
    }
   ],
   "source": [
    "temperature = 0.5\n",
    "length = 1000\n",
    "seed = \"Soon as they like you make 'em unlike you\"\n",
    "test = generate_rap(seed,length,temperature)"
   ]
  },
  {
   "cell_type": "code",
   "execution_count": 146,
   "metadata": {},
   "outputs": [
    {
     "name": "stdout",
     "output_type": "stream",
     "text": [
      "Soon as they like you make 'em my first hed on we lim us and it's un all thouse thow I'm a evel\n",
      "And niggas be\n",
      "Twas that new resens\n",
      "\n",
      "I know I came ma press niggas to cound’s this they need that Trray? bitch niggas ass Bome\n",
      "And never me\n",
      "This bitch for ad I've been and this these me talk you\n",
      "\n",
      "Stuck niggas ain't from niggas somebody\n",
      "Wann know me cast find lex\n",
      "And I told my finl my prigos 'em ofty be to vick still stanks the flew it\n",
      "So vew tise that Beption te with I talk then percen find lew Mibss\n",
      "These nam like I my famous Ban, nigga\n",
      "I the right so shat\n",
      "Loke Mass in this this the bell niggas came out talk the pissty\n",
      "He blood all they give like this that's be all the clottin' like I've been me like I best\n",
      "I told 'em like I with the I wonst llwoon eelin's pridce\n",
      "Fuck the Kansing you bad the plet this sish first gradye\n",
      "My mildy where to treal right now\n",
      "Ast ay, Ky, I we fored you could've been want to want to troke but the stail the like talk abious pods, paing ony\n",
      "Beto is tellime you to try ost like I seen\n",
      "Niggas say I'\n"
     ]
    }
   ],
   "source": [
    "temperature = 0.75\n",
    "length = 1000\n",
    "seed = \"Soon as they like you make 'em unlike you\"\n",
    "test = generate_rap(seed,length,temperature)"
   ]
  },
  {
   "cell_type": "code",
   "execution_count": 147,
   "metadata": {},
   "outputs": [
    {
     "name": "stdout",
     "output_type": "stream",
     "text": [
      "Soon as they like you make 'em like welchsHirs, rubp wnink to Banlway, you from you did sssDatday, ild-\n",
      "Yuall 'bout the still first niggas Recil\n",
      "Ludt to way flive ?\n",
      "dyragnt shigh Tlincus comone lom pegne sTads hiall mop like ya Roke SRive Beswas fot the kI blowd so knew ReckSIGcst first fy5s his fof with of the Myurn, down get fuck\n",
      "Blaw\n",
      "I'm bottall  ugas nigga\n",
      "zy\n",
      "Niggas grk first nw!\n",
      "ef to sutide I can't fminno shreAs tun like éwe light pain high fuck\n",
      "Souny link the I know scould 0\n",
      "L's new slaves\n",
      "I'm 'bout to girln rightnno  witce\n",
      "KGod this fisk qlest\n",
      "Wioke you prozent is to lowe\n",
      "Youn out fitty colnsmy with Li gh out like I this tastoney\n",
      "SraRd, Ye’TC y, Ron s at\n",
      "What finks Blaevin' ree 'sking on I've been lem me owe Cty’al 'be been cloome gigl buutin' one cutpN brock tusios wave I talk thar niggas mon that Fuck buck lidton is proston my\n",
      "Ittall bobied 'bout it cillyso rep\n",
      "Wass like I'm rockin' tI fussy lep cut\n",
      "1't live benna call in all, wasn'll Je lome\n",
      "Dunk thill wants looking Chodoh\n",
      "And your be\n",
      "All If mothink \"Sa\n"
     ]
    }
   ],
   "source": [
    "temperature = 1.2\n",
    "length = 1000\n",
    "seed = \"Soon as they like you make 'em unlike you\"\n",
    "test = generate_rap(seed,length,temperature)"
   ]
  }
 ],
 "metadata": {
  "kernelspec": {
   "display_name": "Python 3",
   "language": "python",
   "name": "python3"
  },
  "language_info": {
   "codemirror_mode": {
    "name": "ipython",
    "version": 3
   },
   "file_extension": ".py",
   "mimetype": "text/x-python",
   "name": "python",
   "nbconvert_exporter": "python",
   "pygments_lexer": "ipython3",
   "version": "3.6.6"
  }
 },
 "nbformat": 4,
 "nbformat_minor": 2
}
