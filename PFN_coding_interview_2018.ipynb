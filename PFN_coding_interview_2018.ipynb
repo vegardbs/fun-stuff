{
 "cells": [
  {
   "cell_type": "markdown",
   "metadata": {},
   "source": [
    "This is my solution to the 2018 coding interview at Preferred Networks."
   ]
  },
  {
   "cell_type": "markdown",
   "metadata": {},
   "source": [
    "# Problem 1: Helper functions without external modules"
   ]
  },
  {
   "cell_type": "code",
   "execution_count": 257,
   "metadata": {},
   "outputs": [],
   "source": [
    "class UnitTests():\n",
    "    \n",
    "    def vec_length_check(self,x,y):\n",
    "        if len(x) != len(y):\n",
    "            print(\"ERROR: Dimension of vectors does not match.\")\n",
    "            return False\n",
    "        else:\n",
    "            return True\n",
    "        \n",
    "    def vec_elem_check(self,x):\n",
    "        if not all(isinstance(n,(int,float)) for n in x):\n",
    "            print(\"ERROR: Vectors can only contain ints or floats.\")\n",
    "            return False\n",
    "        else:\n",
    "            return True"
   ]
  },
  {
   "cell_type": "code",
   "execution_count": 258,
   "metadata": {},
   "outputs": [],
   "source": [
    "UT = UnitTests()"
   ]
  },
  {
   "cell_type": "code",
   "execution_count": 371,
   "metadata": {},
   "outputs": [],
   "source": [
    "def vec_sum(x,y):\n",
    "    \n",
    "    if not UT.vec_elem_check(x):\n",
    "        return\n",
    "    if not UT.vec_length_check(x,y):\n",
    "        return\n",
    "    \n",
    "    return list(map(lambda x,y: x+y, x,y))"
   ]
  },
  {
   "cell_type": "code",
   "execution_count": 372,
   "metadata": {},
   "outputs": [
    {
     "name": "stdout",
     "output_type": "stream",
     "text": [
      "[2, 4, 6]\n",
      "ERROR: Vectors can only contain ints or floats.\n",
      "None\n",
      "ERROR: Dimension of vectors does not match.\n",
      "None\n"
     ]
    }
   ],
   "source": [
    "x1, y1 = [1,2,3], [1,2,3]\n",
    "x2, y2 = [\"a\",2,3], [1,2,3]\n",
    "x3, y3 = [1,2,3,4], [1,2,3]\n",
    "\n",
    "print(vec_sum(x1,y1))\n",
    "print(vec_sum(x2,y2))\n",
    "print(vec_sum(x3,y3))"
   ]
  },
  {
   "cell_type": "code",
   "execution_count": 326,
   "metadata": {},
   "outputs": [],
   "source": [
    "def vec_mat_prod(A, x):\n",
    "    \n",
    "    A_dims = (len(A),len(A[0]))\n",
    "    x_dims = len(x)\n",
    "    \n",
    "    if x_dims != A_dims[1]:\n",
    "        print(\"ERROR: Dimension of matrix and vector does not match\")\n",
    "    \n",
    "    y = [[] for n in range(A_dims[0])]\n",
    "    \n",
    "    for i in range(A_dims[0]):\n",
    "        y[i] = sum(A[i][j]*x[j] for j in range(x_dims))\n",
    "        \n",
    "    return y\n",
    "    "
   ]
  },
  {
   "cell_type": "code",
   "execution_count": 327,
   "metadata": {},
   "outputs": [
    {
     "data": {
      "text/plain": [
       "[14, 32]"
      ]
     },
     "execution_count": 327,
     "metadata": {},
     "output_type": "execute_result"
    }
   ],
   "source": [
    "A = [[1,2,3],[4,5,6]]\n",
    "x = [1,2,3]\n",
    "vec_mat_prod(A,x)"
   ]
  },
  {
   "cell_type": "code",
   "execution_count": 328,
   "metadata": {},
   "outputs": [],
   "source": [
    "def mat_transpose(A):\n",
    "    row_dim = len(A)\n",
    "    col_dim = len(A[0])\n",
    "    \n",
    "    A_T = [[A[i][j] for i in range(row_dim)] for j in range(col_dim)]\n",
    "    return A_T\n",
    "            "
   ]
  },
  {
   "cell_type": "code",
   "execution_count": 329,
   "metadata": {},
   "outputs": [
    {
     "name": "stdout",
     "output_type": "stream",
     "text": [
      "[[1, 2, 3], [4, 5, 6]]\n",
      "[[1, 4], [2, 5], [3, 6]]\n"
     ]
    }
   ],
   "source": [
    "print(A)\n",
    "print(mat_transpose(A))"
   ]
  },
  {
   "cell_type": "code",
   "execution_count": 266,
   "metadata": {},
   "outputs": [],
   "source": [
    "def ReLU(x):\n",
    "\n",
    "    if not all(isinstance(n,(int,float)) for n in x):\n",
    "        print(\"ERROR: Vectors can only contain ints or floats.\")\n",
    "        return\n",
    "    \n",
    "    x = [max(0,x[i]) for i in range(len(x))]\n",
    "\n",
    "    return x"
   ]
  },
  {
   "cell_type": "code",
   "execution_count": 267,
   "metadata": {},
   "outputs": [
    {
     "data": {
      "text/plain": [
       "[0, 2, 3]"
      ]
     },
     "execution_count": 267,
     "metadata": {},
     "output_type": "execute_result"
    }
   ],
   "source": [
    "ReLU([-1,2,3])"
   ]
  },
  {
   "cell_type": "code",
   "execution_count": 268,
   "metadata": {},
   "outputs": [],
   "source": [
    "def softMax(x):\n",
    "    \n",
    "    e = 2.7182818284\n",
    "    \n",
    "    exp_vector = [e**(x[n]) for n in range(len(x))]\n",
    "    exp_sum = sum(exp_vector)\n",
    "    \n",
    "    exp_vector = [exp_vector[n]/exp_sum for n in range(len(x))]\n",
    "    \n",
    "    return exp_vector"
   ]
  },
  {
   "cell_type": "code",
   "execution_count": 269,
   "metadata": {},
   "outputs": [
    {
     "name": "stdout",
     "output_type": "stream",
     "text": [
      "[0.09003057317346094, 0.24472847105785542, 0.6652409557686837]\n",
      "Sum is normalized to 1.0\n"
     ]
    }
   ],
   "source": [
    "x = [-1,0,1]\n",
    "print(softMax(x))\n",
    "print(f\"Sum is normalized to {sum(softMax(x))}\")"
   ]
  },
  {
   "cell_type": "markdown",
   "metadata": {},
   "source": [
    "# Problem 2a: Importing and converting data"
   ]
  },
  {
   "cell_type": "code",
   "execution_count": 312,
   "metadata": {},
   "outputs": [],
   "source": [
    "def read_pmg(n):\n",
    "    file = open(\"/home/vegard/MachineLearning/PFN/intern-coding-tasks-master/2018/ml/pgm/\" + str(n) + \".pgm\",\"r\")\n",
    "    data = file.read().split()\n",
    "    file.close()\n",
    "    \n",
    "    fig = data[4:]\n",
    "    fig_norm = [float(fig[n])/255 for n in range(len(fig))]\n",
    "    \n",
    "    return fig_norm\n"
   ]
  },
  {
   "cell_type": "code",
   "execution_count": null,
   "metadata": {},
   "outputs": [],
   "source": [
    "def convert_to_matrix(A):\n",
    "    n_rows = len(A)\n",
    "    mat = []\n",
    "    for n in range(n_rows):\n",
    "        mat.append(A[n].split())\n",
    "    \n",
    "    for i in range(len(mat)):\n",
    "        for j in range(len(mat[0])):\n",
    "            mat[i][j] = float(mat[i][j])\n",
    "        \n",
    "    return mat"
   ]
  },
  {
   "cell_type": "code",
   "execution_count": null,
   "metadata": {},
   "outputs": [],
   "source": [
    "def convert_to_vector(x):\n",
    "    for n in range(len(x)):\n",
    "        x[n] = float(x[n])\n",
    "    return x"
   ]
  },
  {
   "cell_type": "code",
   "execution_count": 344,
   "metadata": {},
   "outputs": [],
   "source": [
    "file = open(\"/home/vegard/MachineLearning/PFN/intern-coding-tasks-master/2018/ml/param.txt\",\"r\")\n",
    "H = 256\n",
    "C = 23\n",
    "\n",
    "data = file.readlines()\n",
    "file.close()\n",
    "\n",
    "W1 = data[:H]\n",
    "W1 = convert_to_matrix(W1)\n",
    "\n",
    "b1 = data[H].split()\n",
    "b1 = convert_to_vector(b1)\n",
    "\n",
    "W2 = data[H+1:2*H+1]\n",
    "W2 = convert_to_matrix(W2)\n",
    "\n",
    "b2 = data[2*H+1].split()\n",
    "b1 = convert_to_vector(b2)\n",
    "\n",
    "\n",
    "W3 = data[2*H+2:2*H + 2 + C]\n",
    "W3 = convert_to_matrix(W3)\n",
    "\n",
    "b3 = data[-1].split()\n",
    "b3 = convert_to_vector(b3)\n"
   ]
  },
  {
   "cell_type": "code",
   "execution_count": 367,
   "metadata": {},
   "outputs": [],
   "source": [
    "file = open(\"/home/vegard/MachineLearning/PFN/intern-coding-tasks-master/2018/ml/labels.txt\",\"r\")\n",
    "labels = file.read().split()\n",
    "file.close()\n",
    "labels = convert_to_vector(labels)"
   ]
  },
  {
   "cell_type": "markdown",
   "metadata": {},
   "source": [
    "# Problem 2b: Using the predictor model to classify greek symbols"
   ]
  },
  {
   "cell_type": "code",
   "execution_count": 347,
   "metadata": {},
   "outputs": [],
   "source": [
    "x = read_pmg(1)"
   ]
  },
  {
   "cell_type": "code",
   "execution_count": 348,
   "metadata": {},
   "outputs": [],
   "source": [
    "a1 = vec_mat_prod(W1,x)\n",
    "a1 = vec_sum(a1,b1)"
   ]
  },
  {
   "cell_type": "code",
   "execution_count": 351,
   "metadata": {},
   "outputs": [],
   "source": [
    "h1 = ReLU(a1)"
   ]
  },
  {
   "cell_type": "code",
   "execution_count": 352,
   "metadata": {},
   "outputs": [],
   "source": [
    "a2 = vec_mat_prod(W2,h1)\n",
    "a2 = vec_sum(a2,b2)"
   ]
  },
  {
   "cell_type": "code",
   "execution_count": 353,
   "metadata": {},
   "outputs": [],
   "source": [
    "h2 = ReLU(a2)"
   ]
  },
  {
   "cell_type": "code",
   "execution_count": 354,
   "metadata": {},
   "outputs": [],
   "source": [
    "y = vec_mat_prod(W3,h2)\n",
    "y = vec_sum(y,b3)"
   ]
  },
  {
   "cell_type": "code",
   "execution_count": 355,
   "metadata": {},
   "outputs": [],
   "source": [
    "f = softMax(y)"
   ]
  },
  {
   "cell_type": "code",
   "execution_count": 358,
   "metadata": {},
   "outputs": [
    {
     "data": {
      "text/plain": [
       "0.997970090282473"
      ]
     },
     "execution_count": 358,
     "metadata": {},
     "output_type": "execute_result"
    }
   ],
   "source": [
    "max(f)"
   ]
  },
  {
   "cell_type": "code",
   "execution_count": 369,
   "metadata": {},
   "outputs": [
    {
     "data": {
      "text/plain": [
       "15"
      ]
     },
     "execution_count": 369,
     "metadata": {},
     "output_type": "execute_result"
    }
   ],
   "source": [
    "f.index(max(f)) + 1 # To account for arrays in python starting at index 0"
   ]
  },
  {
   "cell_type": "code",
   "execution_count": 370,
   "metadata": {},
   "outputs": [
    {
     "data": {
      "text/plain": [
       "15.0"
      ]
     },
     "execution_count": 370,
     "metadata": {},
     "output_type": "execute_result"
    }
   ],
   "source": [
    "labels[1+1]"
   ]
  }
 ],
 "metadata": {
  "kernelspec": {
   "display_name": "Python 3",
   "language": "python",
   "name": "python3"
  },
  "language_info": {
   "codemirror_mode": {
    "name": "ipython",
    "version": 3
   },
   "file_extension": ".py",
   "mimetype": "text/x-python",
   "name": "python",
   "nbconvert_exporter": "python",
   "pygments_lexer": "ipython3",
   "version": "3.6.5"
  }
 },
 "nbformat": 4,
 "nbformat_minor": 2
}
