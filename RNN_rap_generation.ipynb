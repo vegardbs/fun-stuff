{
 "cells": [
  {
   "cell_type": "code",
   "execution_count": 4,
   "metadata": {},
   "outputs": [
    {
     "name": "stderr",
     "output_type": "stream",
     "text": [
      "Using TensorFlow backend.\n"
     ]
    }
   ],
   "source": [
    "import numpy as np\n",
    "import pandas as pd\n",
    "from nltk import word_tokenize,sent_tokenize\n",
    "from collections import deque\n",
    "import random\n",
    "from keras.models import Sequential\n",
    "from keras.layers import Dense, LSTM, Dropout, BatchNormalization\n",
    "from keras.optimizers import RMSprop, Adam\n",
    "import urllib.request as urllib2\n",
    "from bs4 import BeautifulSoup\n",
    "\n",
    "#from tensorflow import Tensorboard"
   ]
  },
  {
   "cell_type": "markdown",
   "metadata": {},
   "source": [
    "# Generating rap lyrics with recurrent neural networks"
   ]
  },
  {
   "cell_type": "markdown",
   "metadata": {},
   "source": [
    "I wanted to create a RNN to produce rap lyrics inspired by the rapper MF Doom."
   ]
  },
  {
   "cell_type": "markdown",
   "metadata": {},
   "source": [
    "I will explain the code in some detail, but I won't describe the network structure in any detail, since I mostly write these notebooks for myself."
   ]
  },
  {
   "cell_type": "markdown",
   "metadata": {},
   "source": [
    "There are many other good sources online, where you can learn the basics of RNN."
   ]
  },
  {
   "cell_type": "markdown",
   "metadata": {},
   "source": [
    "The only thing I will say to begin with, is that we want to feed a set of 29 characters into a neural network, and make it predict what the next character should be. This prediction is made on the basis of what the structure of the input data (MF Doom lyrics) is; \n",
    "\n",
    "If \"e\" comes often after \"th\" in the input data, the network will predict that its a high probability that \"e\" comes next when we feed it the letters \"th\""
   ]
  },
  {
   "cell_type": "markdown",
   "metadata": {},
   "source": [
    "To get the data, we scrape the website metrolyrics. All the songs are hyperlinks with the tag \"a\" and class name \"title \". We find all of them using beautifulsoup."
   ]
  },
  {
   "cell_type": "code",
   "execution_count": 13,
   "metadata": {},
   "outputs": [
    {
     "data": {
      "text/plain": [
       "<a alt=\"MF Doom Beef Rap lyrics\" class=\"title \" href=\"http://www.metrolyrics.com/beef-rap-lyrics-mf-doom.html\" onmousedown=\"ev('Popular Songs','searcht:beef-rap-lyrics-mf-doom');\" title=\"MF Doom Beef Rap lyrics\">\n",
       "Beef Rap Lyrics\n",
       "</a>"
      ]
     },
     "execution_count": 13,
     "metadata": {},
     "output_type": "execute_result"
    }
   ],
   "source": [
    "url= \"http://www.metrolyrics.com/mf-doom-lyrics.html\" # URL with a list of all songs\n",
    "                                                    \n",
    "page = urllib2.urlopen(url)       \n",
    "soup = BeautifulSoup(page, \"html.parser\") \n",
    "\n",
    "all_songs = soup.find_all('a', {\"class\": \"title \"}) \n",
    "all_songs[0]"
   ]
  },
  {
   "cell_type": "markdown",
   "metadata": {},
   "source": [
    "Here we the hyperlink, href = \"....\", which is what we want. Some of the songs are not MF doom songs, but recommended songs based on this artist. We dont want them, so we search for all songs which have \"MF\" in the title and extract only those hyperlinks."
   ]
  },
  {
   "cell_type": "code",
   "execution_count": 17,
   "metadata": {},
   "outputs": [
    {
     "name": "stdout",
     "output_type": "stream",
     "text": [
      "82 songs found\n",
      "Example url: http://www.metrolyrics.com/beef-rap-lyrics-mf-doom.html\n"
     ]
    }
   ],
   "source": [
    "songs = []                                          \n",
    "\n",
    "for n in range (len(all_songs)):\n",
    "    if \"MF\" in all_songs[n][\"title\"]:\n",
    "        songs.append(all_songs[n][\"href\"])\n",
    "        \n",
    "        \n",
    "print(f\"{n+1} songs found\")        \n",
    "print(f\"Example url: {songs[0]}\")"
   ]
  },
  {
   "cell_type": "markdown",
   "metadata": {},
   "source": [
    "Now we have a list of 82 url's (one for each song), and each of those urls is a webpage where we find the song lyrics. We now define an empty string, and fill it with lyrics from all the songs."
   ]
  },
  {
   "cell_type": "code",
   "execution_count": 156,
   "metadata": {},
   "outputs": [
    {
     "name": "stdout",
     "output_type": "stream",
     "text": [
      "Scraping song 69 of 69\r"
     ]
    }
   ],
   "source": [
    "lyrics = \"\"\n",
    "n_songs = len(songs)\n",
    "\n",
    "for n in range(n_songs):\n",
    "\n",
    "    url = songs[n]\n",
    "    page = urllib2.urlopen(url)\n",
    "    \n",
    "    soup = BeautifulSoup(page, \"html.parser\")\n",
    "\n",
    "    verses = soup.find_all('p', {\"class\": \"verse\"}) # similar as before, all verses have\n",
    "                                                    # the tag p, and class name \"verse\"\n",
    "    \n",
    "    print(f\"Scraping song {n+1} of {n_songs}\", end =\"\\r\")\n",
    "    \n",
    "    for m in range(len(verses)): # extract the verses and add them to the lyrics string\n",
    "\n",
    "         lyrics = lyrics + verses[m].text.replace(\"\\n\", \" \\n \")\n",
    "         lyrics = lyrics + \" \\n\""
   ]
  },
  {
   "cell_type": "markdown",
   "metadata": {},
   "source": [
    "Now we can take a look at the data we have collected so far"
   ]
  },
  {
   "cell_type": "code",
   "execution_count": 157,
   "metadata": {},
   "outputs": [
    {
     "data": {
      "text/plain": [
       "'Beef rap could lead to gettin? teeth capped \\n Or even a wreath for mom dukes on some grief crap \\n I '"
      ]
     },
     "execution_count": 157,
     "metadata": {},
     "output_type": "execute_result"
    }
   ],
   "source": [
    "lyrics[:100]"
   ]
  },
  {
   "cell_type": "code",
   "execution_count": 158,
   "metadata": {},
   "outputs": [
    {
     "name": "stdout",
     "output_type": "stream",
     "text": [
      "['B', 'e', 'e', 'f', ' ', 'r', 'a', 'p', ' ', 'c', 'o', 'u', 'l', 'd', ' ', 'l', 'e', 'a', 'd', ' ', 't', 'o', ' ', 'g', 'e', 't', 't', 'i', 'n', '?', ' ', 't', 'e', 'e', 't', 'h', ' ', 'c', 'a', 'p', 'p', 'e', 'd', ' ', '\\n', ' ', 'O', 'r', ' ', 'e', 'v', 'e', 'n', ' ', 'a', ' ', 'w', 'r', 'e', 'a']\n"
     ]
    }
   ],
   "source": [
    "characters = list(lyrics)\n",
    "print(characters[:60])"
   ]
  },
  {
   "cell_type": "code",
   "execution_count": 159,
   "metadata": {},
   "outputs": [
    {
     "name": "stdout",
     "output_type": "stream",
     "text": [
      "['Beef', 'rap', 'could', 'lead', 'to', 'gettin', '?', 'teeth', 'capped', 'Or']\n"
     ]
    }
   ],
   "source": [
    "words = word_tokenize(lyrics)\n",
    "print(words[:10])"
   ]
  },
  {
   "cell_type": "markdown",
   "metadata": {},
   "source": [
    "# Preprocessing"
   ]
  },
  {
   "cell_type": "code",
   "execution_count": 160,
   "metadata": {},
   "outputs": [
    {
     "name": "stdout",
     "output_type": "stream",
     "text": [
      "Data contains 12249 words, and 58588 characters.\n",
      "There are 3321 unique words, and 80 unique characters\n"
     ]
    }
   ],
   "source": [
    "print(f\"Data contains {len(words)} words, and {len(characters)} characters.\")\n",
    "print(f\"There are {len(set(words))} unique words, and {len(set(characters))} unique characters\")"
   ]
  },
  {
   "cell_type": "markdown",
   "metadata": {},
   "source": [
    "That is a lot of unique words, so if we use-one-hot encoding (where each word is transormed to a vector with length equal to the number of unique words), the memory of my laptop can't handle that amount of data. Therefore, we will build a character-level model. The method for creating a word-level model, is almost exactly the same.\n",
    "\n",
    " We take the first 20 000 characters, which is enough data for this proof-of-concept project."
   ]
  },
  {
   "cell_type": "code",
   "execution_count": 161,
   "metadata": {},
   "outputs": [
    {
     "data": {
      "text/plain": [
       "72"
      ]
     },
     "execution_count": 161,
     "metadata": {},
     "output_type": "execute_result"
    }
   ],
   "source": [
    "num_letters = 20000\n",
    "X = characters[:num_letters]\n",
    "unique = sorted(list(set(X)))\n",
    "len(unique)"
   ]
  },
  {
   "cell_type": "markdown",
   "metadata": {},
   "source": [
    "In this subset of the full dataset, there are 72 unique characters. Since we will use one-hot-encoding, we need two dictionaries: one that maps the character to vector indices, and one that maps from vector indices to characters. This is done below, where we also verify that the dictionary works by translating index 0 to its character representation and then back to index representation."
   ]
  },
  {
   "cell_type": "code",
   "execution_count": 162,
   "metadata": {},
   "outputs": [
    {
     "data": {
      "text/plain": [
       "'\\n'"
      ]
     },
     "execution_count": 162,
     "metadata": {},
     "output_type": "execute_result"
    }
   ],
   "source": [
    "ind_to_letter = dict((i, j ) for i, j in enumerate(unique))\n",
    "ind_to_letter[0]"
   ]
  },
  {
   "cell_type": "code",
   "execution_count": 163,
   "metadata": {},
   "outputs": [
    {
     "data": {
      "text/plain": [
       "0"
      ]
     },
     "execution_count": 163,
     "metadata": {},
     "output_type": "execute_result"
    }
   ],
   "source": [
    "letter_to_ind = {unique[n]:n for n in range(len(unique))}\n",
    "letter_to_ind['\\n']"
   ]
  },
  {
   "cell_type": "markdown",
   "metadata": {},
   "source": [
    "Now we create a function to perform the one-hot-encoding. One-hot-encoding can be illustrated by using the example text \"abc\". We want to encode it into a vector of length 3, since there are 3 unique letters in this example. One way to do that is simply\n",
    "\n",
    "$$ a \\to [1,0,0] ,\\quad b \\to [0,1,0], \\quad c \\to [0,0,1] $$\n",
    "\n",
    "and an equally valid encodig is\n",
    "\n",
    "$$ a \\to [0,1,0] ,\\quad b \\to [0,0,1], \\quad c \\to [1,0,0] $$\n",
    "\n",
    "The idea is that we have one unique vector for every character. And since we have created two dictionaries, which maps between indices and characters, we can use this to transform the dataset (which is now a list of characters), into a list of vectors (each representing a uniqe character). This is done in the function below"
   ]
  },
  {
   "cell_type": "code",
   "execution_count": 164,
   "metadata": {},
   "outputs": [],
   "source": [
    "def one_hot_encode(X,unique):\n",
    "\n",
    "    X_one_hot = []                         # Empty list which we will append the o-h-encoded vectors to.\n",
    "    for n in range(len(X)):\n",
    "        one_hot = [0]*len(unique)          # Create a vector of 0's, with length equal to number of uniqe letters.\n",
    "        one_hot[letter_to_ind[X[n]]] = 1   # Map the character X[n] to its index, and insert 1 at that index.\n",
    "        X_one_hot.append(one_hot)          # Append the vector to the list\n",
    "        \n",
    "    return X_one_hot"
   ]
  },
  {
   "cell_type": "code",
   "execution_count": 165,
   "metadata": {},
   "outputs": [],
   "source": [
    "X_one_hot = one_hot_encode(X,unique)"
   ]
  },
  {
   "cell_type": "markdown",
   "metadata": {},
   "source": [
    "Now we must decide how many characeters in the past the network should look, to determine what the next character should be. With a longer memory, training takes more time, but it would also result in more coherent output. Let's set the memory length to 30 characers.\n",
    "\n",
    "We split the data into sequences of 30 characters, which will be the input of the neural network. We could train sequentially on the full dataset (i.e, put the 30 first characters into the network, then the characters from 1:31, then 2:32, etc.) but since the input data (lyrics) has very strong sequential correlation, this would result in inefficient training: In the beginning of training, the network would be fitted to the first verses, but since the language structure of later songs can change drastically from the first songs, the network would be unable to coverge to a good minimum."
   ]
  },
  {
   "cell_type": "code",
   "execution_count": 166,
   "metadata": {},
   "outputs": [
    {
     "name": "stdout",
     "output_type": "stream",
     "text": [
      "19999\r"
     ]
    }
   ],
   "source": [
    "memory_length = 30\n",
    "\n",
    "# Create a deque, essentially a fixed length list,\n",
    "# which automatically removes first element\n",
    "# to make place for newer inputs\n",
    "\n",
    "sequence = deque(maxlen = memory_length)            \n",
    "sequential_data = []\n",
    "\n",
    "num_data = len(X_one_hot)\n",
    "\n",
    "for n in range(num_data):\n",
    "    print(f\"{n}\", end = \"\\r\")\n",
    "    sequence.append(X_one_hot[n])       # Append o-h-vectors to a sequence\n",
    "    if len(sequence) == memory_length:\n",
    "        sequential_data.append(np.array(sequence,dtype = \"int8\"))  \n",
    "        # Once we have a full deque, add the sequence to data\n"
   ]
  },
  {
   "cell_type": "markdown",
   "metadata": {},
   "source": [
    "Just as a sanity check, we check if we con convert the first index of the first sequence from its o-h-vector form to the correct character. Since we get \"B\", which is also the first letter of the input data, we are happy."
   ]
  },
  {
   "cell_type": "code",
   "execution_count": 167,
   "metadata": {},
   "outputs": [
    {
     "data": {
      "text/plain": [
       "'B'"
      ]
     },
     "execution_count": 167,
     "metadata": {},
     "output_type": "execute_result"
    }
   ],
   "source": [
    "# Test if everything is ok so far\n",
    "ind = list(sequential_data[0][0]).index(max(list(sequential_data[0][0])))\n",
    "ind_to_letter[ind]"
   ]
  },
  {
   "cell_type": "markdown",
   "metadata": {},
   "source": [
    "Now we shuffle the data to remove the time-correlation of the sequences, and split the data into training and validation sets."
   ]
  },
  {
   "cell_type": "code",
   "execution_count": 168,
   "metadata": {},
   "outputs": [],
   "source": [
    "random.shuffle(sequential_data)\n",
    "\n",
    "training_frac = 0.2\n",
    "index = int(training_frac*len(sequential_data))\n",
    "\n",
    "\n",
    "train_data = sequential_data[:-index]\n",
    "test_data = sequential_data[-index:]"
   ]
  },
  {
   "cell_type": "markdown",
   "metadata": {},
   "source": [
    "Our goal is to predict the last character in a sequence of 30 characters. The target data which will compare our predictions to, is therefore the last character of every sequence. Here we extract these targets from the data, and define our inputs X, and target outputs y, for both the training and validation data."
   ]
  },
  {
   "cell_type": "code",
   "execution_count": 169,
   "metadata": {},
   "outputs": [],
   "source": [
    "def target_data_split(data):\n",
    "    X = [None]*len(data)\n",
    "    y = [None]*len(data)\n",
    "    \n",
    "    # Separate the first 29 characters and the last character\n",
    "    # for every sequence.\n",
    "    \n",
    "    for n in range(len(data)):\n",
    "        X[n], y[n] = data[n][:-1], data[n][-1]  \n",
    "    return np.array(X), np.array(y)             \n",
    "\n",
    "X_train, y_train = target_data_split(train_data)      \n",
    "X_test, y_test = target_data_split(test_data)\n"
   ]
  },
  {
   "cell_type": "markdown",
   "metadata": {},
   "source": [
    "We are now ready to create the neural network, and start training. The network structure is a long-short-term-memory (LSTM) layer, then a dense layer, followed by a final output layer with softmax activation (since we want the proability distribution of the next letter as output)."
   ]
  },
  {
   "cell_type": "code",
   "execution_count": 170,
   "metadata": {},
   "outputs": [],
   "source": [
    "model = Sequential()\n",
    "\n",
    "model.add(LSTM(128, input_shape = (np.array(X_train)[0].shape)))\n",
    "model.add(Dropout(0.2))\n",
    "\n",
    "model.add(Dense(128, activation = \"relu\"))\n",
    "model.add(Dropout(0.2))\n",
    "\n",
    "model.add(Dense(len(unique), activation = \"softmax\"))\n",
    "\n",
    "optimizer = RMSprop(lr =1e-2, decay = 1e-6)\n",
    "model.compile(loss='categorical_crossentropy', optimizer=optimizer, metrics=[\"acc\"])"
   ]
  },
  {
   "cell_type": "code",
   "execution_count": null,
   "metadata": {},
   "outputs": [],
   "source": [
    "model.summary()"
   ]
  },
  {
   "cell_type": "code",
   "execution_count": 181,
   "metadata": {},
   "outputs": [
    {
     "name": "stdout",
     "output_type": "stream",
     "text": [
      "Train on 15977 samples, validate on 3994 samples\n",
      "Epoch 1/10\n",
      "15977/15977 [==============================] - 12s 751us/step - loss: 1.6182 - acc: 0.5163 - val_loss: 1.9299 - val_acc: 0.4782\n",
      "Epoch 2/10\n",
      "15977/15977 [==============================] - 15s 915us/step - loss: 1.5590 - acc: 0.5303 - val_loss: 1.9921 - val_acc: 0.4722\n",
      "Epoch 3/10\n",
      "15977/15977 [==============================] - 16s 1ms/step - loss: 1.5225 - acc: 0.5405 - val_loss: 2.0159 - val_acc: 0.4602\n",
      "Epoch 4/10\n",
      "15977/15977 [==============================] - 18s 1ms/step - loss: 1.4654 - acc: 0.5560 - val_loss: 2.0366 - val_acc: 0.4732\n",
      "Epoch 5/10\n",
      "15977/15977 [==============================] - 16s 1ms/step - loss: 1.4139 - acc: 0.5662 - val_loss: 2.0225 - val_acc: 0.4654\n",
      "Epoch 6/10\n",
      "15977/15977 [==============================] - 16s 985us/step - loss: 1.3726 - acc: 0.5763 - val_loss: 2.1219 - val_acc: 0.4670\n",
      "Epoch 7/10\n",
      "15977/15977 [==============================] - 16s 982us/step - loss: 1.3417 - acc: 0.5868 - val_loss: 2.1325 - val_acc: 0.4765\n",
      "Epoch 8/10\n",
      "15977/15977 [==============================] - 16s 999us/step - loss: 1.3041 - acc: 0.5950 - val_loss: 2.1442 - val_acc: 0.4755\n",
      "Epoch 9/10\n",
      "15977/15977 [==============================] - 16s 982us/step - loss: 1.2713 - acc: 0.6074 - val_loss: 2.1716 - val_acc: 0.4732\n",
      "Epoch 10/10\n",
      "15977/15977 [==============================] - 16s 1000us/step - loss: 1.2353 - acc: 0.6146 - val_loss: 2.2207 - val_acc: 0.4685\n"
     ]
    }
   ],
   "source": [
    "epochs = 10\n",
    "batch_size = 128\n",
    "history = model.fit(X_train,y_train, batch_size = batch_size, epochs=epochs,validation_data=(X_test,y_test))"
   ]
  },
  {
   "cell_type": "code",
   "execution_count": 172,
   "metadata": {},
   "outputs": [
    {
     "data": {
      "text/plain": [
       "<matplotlib.legend.Legend at 0x7f1f50f0a6a0>"
      ]
     },
     "execution_count": 172,
     "metadata": {},
     "output_type": "execute_result"
    },
    {
     "data": {
      "image/png": "[encoded data removed]",
      "text/plain": [
       "<Figure size 1080x360 with 2 Axes>"
      ]
     },
     "metadata": {
      "needs_background": "light"
     },
     "output_type": "display_data"
    }
   ],
   "source": [
    "import matplotlib.pyplot as plt\n",
    "%matplotlib inline\n",
    "\n",
    "plt.figure(figsize=(15,5))\n",
    "\n",
    "epochs\n",
    "\n",
    "plt.subplot(1,2,1)\n",
    "plt.plot(history.history[\"val_acc\"])\n",
    "plt.plot(history.history[\"acc\"])\n",
    "plt.ylabel(\"accuracy\")\n",
    "plt.xlabel(\"epoch\")\n",
    "plt.legend([\"val_acc\",\"acc\"])\n",
    "\n",
    "plt.subplot(1,2,2)\n",
    "plt.plot(history.history[\"val_loss\"])\n",
    "plt.plot(history.history[\"loss\"])\n",
    "plt.ylabel(\"loss\")\n",
    "plt.xlabel(\"epoch\")\n",
    "plt.legend([\"val_loss\",\"loss\"])\n"
   ]
  },
  {
   "cell_type": "markdown",
   "metadata": {},
   "source": [
    "After traning for 10 epochs, we see that the validation accuracy and validation loss starts to stabilize, so its a good time to stop.\n",
    "\n",
    "Now we have a model which takes 29 characers as an imput, and gives one proability distribuion of all possible next characters as output.\n",
    "\n",
    "What we need next, is a function that takes 29 seed characters, the desired length of the output, and a temperature (to be explained later) as input. As the output we want a generated text, where the AI tries to imitate MF Doom. A function that does this is defined below"
   ]
  },
  {
   "cell_type": "code",
   "execution_count": 182,
   "metadata": {},
   "outputs": [],
   "source": [
    "def generate_rap(seed_sentence:str, length:int , temperature:int, memory=memory_length-1):\n",
    "    \n",
    "    cut_seed = list(seed_sentence[:memory])  # We cut the input seed (a user defined string)\n",
    "                                             # so that it is the same length as our sequence.\n",
    "    for n in range(len(cut_seed)):\n",
    "        if cut_seed[n] not in ind_to_letter.values():\n",
    "            print(\"Unkown character in input\")\n",
    "            return False    # Report an error if there is a character we havent seen\n",
    "    \n",
    "    o_h_seed = np.array(one_hot_encode(cut_seed,unique))  # one-hot-encode the seed\n",
    "    o_h_sentence = []\n",
    "    \n",
    "    for n in range(len(o_h_seed)): \n",
    "        o_h_sentence.append(o_h_seed[n]) # append the seed to the output\n",
    "        \n",
    "    o_h_seed = o_h_seed.reshape(1,memory,len(unique))\n",
    "    \n",
    "    \n",
    "    for n in range(length):\n",
    "    \n",
    "        next_letter = model.predict(np.array(o_h_seed))[0]  # get a model prediction\n",
    "                            \n",
    "        next_letter = boltzmann_sample(next_letter,temperature)  # sample probability distribution(see below)\n",
    "        \n",
    "        o_h_sentence.append(next_letter) # append the letter to the output\n",
    "  \n",
    "        next_letter = np.reshape(next_letter, (1,) + next_letter.shape)\n",
    "\n",
    "        o_h_seed = np.concatenate((o_h_seed,next_letter), axis = 1)  # add the new letter to the seed\n",
    "        o_h_seed = np.delete(o_h_seed,obj=0,axis=1)                  # and delete first letter of seed\n",
    "                                                                     # to keep seed length = 29\n",
    "            \n",
    "    str_sentence = \"\"\n",
    "    for n in range(len(o_h_sentence)):\n",
    "        str_sentence += ind_to_letter[np.argmax(o_h_sentence[n])]   # translate the o-h-data to string\n",
    "    \n",
    "    print(str_sentence)\n",
    "    \n",
    "    \n",
    "    return o_h_sentence"
   ]
  },
  {
   "cell_type": "markdown",
   "metadata": {},
   "source": [
    "The way we sample the next letter from the output probability distribution deserves special attention. If we always used the max index value of the output, we would quickly be stuck in a loop i.e. \"blood on the blood on the blood\" (see below).\n",
    "\n",
    "We transform the output probability distribution, $p$ into the Boltzmann distribution, $q$:\n",
    "\n",
    "$$  q_i = \\frac{\\exp[~\\ln(p_i)/T~]}{\\sum_i^N \\exp[~\\ln(p_i)/T~]}, $$\n",
    "\n",
    "where N is the length of the one-hot-vector output (i.e. the number of unique characters) and T is a parameter. In physics this distribution is the one of a system at equilibrium with temperature T. \n",
    "\n",
    "If T = 1, we see that we get back the original probability distribution $q_i = p_i$.\n",
    "\n",
    "If we sample from this distribution, the temperature T determines how likely we are to sample values with high value of  $p_i$. \n",
    "\n",
    "\n",
    "For large $T>>1$, we get a uniform distribution\n",
    "\n",
    "$$ q_i = 1/N$$\n",
    "\n",
    "and therefore indpendent on the input $p_i$. This means that we are equally likely to draw any of the possible characters when sampling.\n",
    "\n",
    "\n",
    "For small $T<<1$, the exponential disribution becomes a delta function, centered on the largest $p_i$\n",
    "\n",
    "$$ q_i = \\delta(p_i-\\max(p)) $$\n",
    "\n",
    "all $q_i$ except for one is zero, while the $q_i$ with the largest $p_i$ as input becomes 1. That is, the zero temperature sampling, is equivalent to always choosing the letter with the largest probability in the output distribution $p$."
   ]
  },
  {
   "cell_type": "code",
   "execution_count": 91,
   "metadata": {},
   "outputs": [],
   "source": [
    "def boltzmann_sample(probs, temperature=1.0):\n",
    "    probs = np.asarray(probs).astype('float64')\n",
    "    \n",
    "    probs = np.exp(np.log(probs) / temperature)\n",
    "    normalization = np.sum(probs)\n",
    "    \n",
    "    probs = probs / normalization\n",
    "    \n",
    "    sample = np.random.multinomial(1, probs, 1)\n",
    "    return sample"
   ]
  },
  {
   "cell_type": "markdown",
   "metadata": {},
   "source": [
    "Below we generate sample texts, while using different temperatures for our sampling.\n",
    "\n",
    "For low temperatures, where we mostly choose the character with highest probability, we get stuck in loops, such as (\"But when he mouth shit the mic the sume follow...\"). However, most of the spelling of the words are correct (sume??). The overall structure of the text is repetative, but the words are \n",
    "\n",
    "For high temperatures, we get mostly random letters. Most of the words have no meaning, but the text is very diverse.\n",
    "\n",
    "For intermidate temperatures, we get more coherent sentence structures, and also more diverse word usage.\n",
    "<img src=\"golden_zone.png\" alt=\"Drawing\" style=\"width: 500px;\"/>\n",
    "\n",
    "I'm dissapointed I could not find a single good rhyme, but by increasing the data amount, we should be able to improve the rap generator. One thing one could to to force rhyming, is to modify the network character sampling, in such a way that we increase the probability of letters that would result in a rhyme with any words in the past memory."
   ]
  },
  {
   "cell_type": "code",
   "execution_count": 190,
   "metadata": {},
   "outputs": [
    {
     "name": "stdout",
     "output_type": "stream",
     "text": [
      "Beef rap could lead to getting with stress \n",
      " But I gottin? up \n",
      " I gotter off the pipe \n",
      " Fresher like sure for what what when he more shit the mic the sume follow \n",
      " But when he mouth shit the mic the sume follow \n",
      " But when he mouth shit the mic the sume follow \n",
      " But when he mouth shit the mic the sume follow \n",
      " But when he mouth shit the mic the sume follow \n",
      " But when he mouth shit the mic the sume follow \n",
      " But when he mouth shit the mic the sume follow \n",
      " But when he mouth shit the mic the sume follow \n",
      " But when he mouth shit\n"
     ]
    }
   ],
   "source": [
    "temperature = 0.01\n",
    "length = 500\n",
    "seed = lyrics[:100]\n",
    "test = generate_rap(seed,length,temperature)"
   ]
  },
  {
   "cell_type": "code",
   "execution_count": 185,
   "metadata": {},
   "outputs": [
    {
     "name": "stdout",
     "output_type": "stream",
     "text": [
      "Beef rap could lead to getting wonk \n",
      " But when he metto brow \n",
      " I wander when he monk who she while thing of shippin? cailes \n",
      " But when he trunk she wrecks with bust of copped \n",
      " And when he mic the some thing on the mic like the villeet it \n",
      "He wast the summer \n",
      " Do mith \n",
      " I wonder like \"Super!\" \n",
      " got the fuck when he trunk \n",
      " One while this noted the villeet it \n",
      "He more with pleasu \n",
      " And when he mouth shit the villeet it \n",
      "He kis the mics from the villain in he wastin? bobble \n",
      " And when he metter of shit \n",
      " And while the more sh\n"
     ]
    }
   ],
   "source": [
    "temperature = 0.2\n",
    "length = 500\n",
    "seed = lyrics[:100]\n",
    "test = generate_rap(seed,length,temperature)"
   ]
  },
  {
   "cell_type": "code",
   "execution_count": 186,
   "metadata": {},
   "outputs": [
    {
     "name": "stdout",
     "output_type": "stream",
     "text": [
      "Beef rap could lead to getting with stress \n",
      " DOOM it \n",
      "He wanna see \n",
      " But while still be tippin? \n",
      " Fresed the summer \n",
      " But I'm still glading in come will bast of shit \n",
      " And when he metto brecks with some -clay \n",
      " And while be butten crapher went \n",
      " It she gine crep the villain in the summer \n",
      " But when he mouth with you forget of fleats \n",
      " And when he gonna.le \n",
      " For with \n",
      " But I gottin? up \n",
      " It and went, sting hello \n",
      " It's like ming wonds \n",
      " On the mic toped \n",
      " Freel the knows that's while still bat the villain in the gine live wi\n"
     ]
    }
   ],
   "source": [
    "temperature = 0.3\n",
    "length = 500\n",
    "seed = lyrics[:100]\n",
    "test = generate_rap(seed,length,temperature)"
   ]
  },
  {
   "cell_type": "code",
   "execution_count": 187,
   "metadata": {},
   "outputs": [
    {
     "name": "stdout",
     "output_type": "stream",
     "text": [
      "Beef rap could lead to getting ofid some follow \n",
      " And when he micting with crapped \n",
      " And when the screams \n",
      " And whith the shit and we mic and shit \n",
      " Freel chat when he gonna live through the villerna brown th crapped \n",
      " And when aut the super-villean-big \n",
      " And when he mitter of maget \n",
      " And when he metto beer \n",
      " But I want her be tomb \n",
      " One butch went \n",
      " I gotta from the browd with more drunk \n",
      " One just gonna see my eyes \n",
      " Steem you don't fairs \n",
      " Do steel \n",
      " from while the bing \n",
      " Crupped \n",
      " And when he mister went \n",
      " The villeet i\n"
     ]
    }
   ],
   "source": [
    "temperature = 0.4\n",
    "length = 500\n",
    "seed = lyrics[:100]\n",
    "test = generate_rap(seed,length,temperature)"
   ]
  },
  {
   "cell_type": "code",
   "execution_count": 188,
   "metadata": {},
   "outputs": [
    {
     "name": "stdout",
     "output_type": "stream",
     "text": [
      "Beef rap could lead to getting us \n",
      " we tand make get \n",
      " Ove the mic the mock this like The bubble out the brunk like MF Known with my to brecks frimes \n",
      " But I gotty writh the villean \n",
      " It and while shit to croker the wonk the stige in thas in the scrapped \n",
      " Ever me the wasted we arentce \n",
      " But I mistent to what get reat her live the mics never sence \n",
      " On a wuth her bestire \n",
      " Freeh he, whoce stippin? allain \n",
      " Domb will say \n",
      " Get fees \n",
      " They sound for where trick from \n",
      " It could it \n",
      " Leater the womble \n",
      " And her be cottre \n",
      " Thes\n"
     ]
    }
   ],
   "source": [
    "temperature = 0.5\n",
    "length = 500\n",
    "seed = lyrics[:100]\n",
    "test = generate_rap(seed,length,temperature)"
   ]
  },
  {
   "cell_type": "code",
   "execution_count": 189,
   "metadata": {},
   "outputs": [
    {
     "name": "stdout",
     "output_type": "stream",
     "text": [
      "Beef rap could lead to getting bang \n",
      " Right in and mobe suppon, big in and bropen \n",
      " But I top your tough \n",
      " sen leaven to your bubble \n",
      " Off yeall \n",
      " Get kat mos will on kgea h to some \n",
      " villing wettus like Jaz... Ove arwunk des turn \n",
      " I sents from fleats \n",
      "OOve, hoak to myster \n",
      " And I see tollow humble dang \n",
      " Do shit, while tho goston \n",
      "Fors my bention \n",
      " Let and niggace game \n",
      " And it's ofonone ture \n",
      " But big har \n",
      " but a getter off be fippin? ofilain, heaven, a paighre like Wunk sRuggace \n",
      " Boved priss from the nipped \n",
      " And I'm c\n"
     ]
    }
   ],
   "source": [
    "temperature = 1.\n",
    "length = 500\n",
    "seed = lyrics[:100]\n",
    "test = generate_rap(seed,length,temperature)"
   ]
  }
 ],
 "metadata": {
  "kernelspec": {
   "display_name": "Python 3",
   "language": "python",
   "name": "python3"
  },
  "language_info": {
   "codemirror_mode": {
    "name": "ipython",
    "version": 3
   },
   "file_extension": ".py",
   "mimetype": "text/x-python",
   "name": "python",
   "nbconvert_exporter": "python",
   "pygments_lexer": "ipython3",
   "version": "3.6.5"
  }
 },
 "nbformat": 4,
 "nbformat_minor": 2
}
